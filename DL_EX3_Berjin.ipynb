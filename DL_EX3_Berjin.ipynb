{
  "cells": [
    {
      "cell_type": "markdown",
      "id": "e40efe29-aadf-4ad5-8624-6dc5840877c4",
      "metadata": {
        "id": "e40efe29-aadf-4ad5-8624-6dc5840877c4"
      },
      "source": [
        "\n",
        "\n",
        "```\n",
        "# This is formatted as code\n",
        "```\n",
        "\n",
        "Berjin Shabeck\n",
        "\n",
        "212222240018\n",
        "\n",
        "B.Tech - AI & ML"
      ]
    },
    {
      "cell_type": "code",
      "execution_count": 1,
      "id": "463b87c5-def5-4258-9eec-f3ad34737439",
      "metadata": {
        "id": "463b87c5-def5-4258-9eec-f3ad34737439"
      },
      "outputs": [],
      "source": [
        "import torch\n",
        "import torch.nn as nn\n",
        "import torch.nn.functional as F\n",
        "from torch.utils.data import DataLoader\n",
        "from torchvision import datasets, transforms\n",
        "\n",
        "import numpy as np\n",
        "import pandas as pd\n",
        "from sklearn.metrics import confusion_matrix\n",
        "import matplotlib.pyplot as plt\n",
        "%matplotlib inline"
      ]
    },
    {
      "cell_type": "code",
      "execution_count": 2,
      "id": "9437e872-c5a0-41bd-9074-95a275b41d0c",
      "metadata": {
        "id": "9437e872-c5a0-41bd-9074-95a275b41d0c"
      },
      "outputs": [],
      "source": [
        "# MNIST Image ____> Tensor"
      ]
    },
    {
      "cell_type": "code",
      "execution_count": 3,
      "id": "b886ca32-4643-446e-a0d1-32c6dce4a154",
      "metadata": {
        "id": "b886ca32-4643-446e-a0d1-32c6dce4a154"
      },
      "outputs": [],
      "source": [
        "transform = transforms.ToTensor()"
      ]
    },
    {
      "cell_type": "code",
      "execution_count": 4,
      "id": "e10eee49-1f78-4d49-a449-469526f66210",
      "metadata": {
        "colab": {
          "base_uri": "https://localhost:8080/"
        },
        "id": "e10eee49-1f78-4d49-a449-469526f66210",
        "outputId": "2ff0387f-18d7-4fbd-efab-ba61377c00c5"
      },
      "outputs": [
        {
          "output_type": "stream",
          "name": "stderr",
          "text": [
            "100%|██████████| 9.91M/9.91M [00:00<00:00, 126MB/s]\n",
            "100%|██████████| 28.9k/28.9k [00:00<00:00, 35.5MB/s]\n",
            "100%|██████████| 1.65M/1.65M [00:00<00:00, 55.7MB/s]\n",
            "100%|██████████| 4.54k/4.54k [00:00<00:00, 5.44MB/s]\n"
          ]
        },
        {
          "output_type": "execute_result",
          "data": {
            "text/plain": [
              "Dataset MNIST\n",
              "    Number of datapoints: 60000\n",
              "    Root location: ../Data\n",
              "    Split: Train\n",
              "    StandardTransform\n",
              "Transform: ToTensor()"
            ]
          },
          "metadata": {},
          "execution_count": 4
        }
      ],
      "source": [
        "train_data = datasets.MNIST(root='../Data', train=True, download=True, transform=transform)\n",
        "train_data"
      ]
    },
    {
      "cell_type": "code",
      "execution_count": 5,
      "id": "dce1a57c-2f9f-4a99-8a5b-0bc7ba066eac",
      "metadata": {
        "colab": {
          "base_uri": "https://localhost:8080/"
        },
        "id": "dce1a57c-2f9f-4a99-8a5b-0bc7ba066eac",
        "outputId": "ee58bd76-e60f-4ec0-c300-44793fa3c4ef"
      },
      "outputs": [
        {
          "output_type": "execute_result",
          "data": {
            "text/plain": [
              "Dataset MNIST\n",
              "    Number of datapoints: 10000\n",
              "    Root location: ../Data\n",
              "    Split: Test\n",
              "    StandardTransform\n",
              "Transform: ToTensor()"
            ]
          },
          "metadata": {},
          "execution_count": 5
        }
      ],
      "source": [
        "test_data = datasets.MNIST(root='../Data', train=False, download=True, transform=transform)\n",
        "test_data"
      ]
    },
    {
      "cell_type": "code",
      "execution_count": 6,
      "id": "55a75aef-23c5-4daf-8875-bffeda5f9e3d",
      "metadata": {
        "colab": {
          "base_uri": "https://localhost:8080/",
          "height": 203
        },
        "id": "55a75aef-23c5-4daf-8875-bffeda5f9e3d",
        "outputId": "7c791a1a-84c6-4c72-aa41-ea1c2678c7c9"
      },
      "outputs": [
        {
          "output_type": "execute_result",
          "data": {
            "text/plain": [
              "torchvision.datasets.mnist.MNIST"
            ],
            "text/html": [
              "<div style=\"max-width:800px; border: 1px solid var(--colab-border-color);\"><style>\n",
              "      pre.function-repr-contents {\n",
              "        overflow-x: auto;\n",
              "        padding: 8px 12px;\n",
              "        max-height: 500px;\n",
              "      }\n",
              "\n",
              "      pre.function-repr-contents.function-repr-contents-collapsed {\n",
              "        cursor: pointer;\n",
              "        max-height: 100px;\n",
              "      }\n",
              "    </style>\n",
              "    <pre style=\"white-space: initial; background:\n",
              "         var(--colab-secondary-surface-color); padding: 8px 12px;\n",
              "         border-bottom: 1px solid var(--colab-border-color);\"><b>torchvision.datasets.mnist.MNIST</b><br/>def __init__(root: Union[str, Path], train: bool=True, transform: Optional[Callable]=None, target_transform: Optional[Callable]=None, download: bool=False) -&gt; None</pre><pre class=\"function-repr-contents function-repr-contents-collapsed\" style=\"\"><a class=\"filepath\" style=\"display:none\" href=\"#\">/usr/local/lib/python3.11/dist-packages/torchvision/datasets/mnist.py</a>`MNIST &lt;http://yann.lecun.com/exdb/mnist/&gt;`_ Dataset.\n",
              "\n",
              "Args:\n",
              "    root (str or ``pathlib.Path``): Root directory of dataset where ``MNIST/raw/train-images-idx3-ubyte``\n",
              "        and  ``MNIST/raw/t10k-images-idx3-ubyte`` exist.\n",
              "    train (bool, optional): If True, creates dataset from ``train-images-idx3-ubyte``,\n",
              "        otherwise from ``t10k-images-idx3-ubyte``.\n",
              "    download (bool, optional): If True, downloads the dataset from the internet and\n",
              "        puts it in root directory. If dataset is already downloaded, it is not\n",
              "        downloaded again.\n",
              "    transform (callable, optional): A function/transform that  takes in a PIL image\n",
              "        and returns a transformed version. E.g, ``transforms.RandomCrop``\n",
              "    target_transform (callable, optional): A function/transform that takes in the\n",
              "        target and transforms it.</pre>\n",
              "      <script>\n",
              "      if (google.colab.kernel.accessAllowed && google.colab.files && google.colab.files.view) {\n",
              "        for (const element of document.querySelectorAll('.filepath')) {\n",
              "          element.style.display = 'block'\n",
              "          element.onclick = (event) => {\n",
              "            event.preventDefault();\n",
              "            event.stopPropagation();\n",
              "            google.colab.files.view(element.textContent, 20);\n",
              "          };\n",
              "        }\n",
              "      }\n",
              "      for (const element of document.querySelectorAll('.function-repr-contents')) {\n",
              "        element.onclick = (event) => {\n",
              "          event.preventDefault();\n",
              "          event.stopPropagation();\n",
              "          element.classList.toggle('function-repr-contents-collapsed');\n",
              "        };\n",
              "      }\n",
              "      </script>\n",
              "      </div>"
            ]
          },
          "metadata": {},
          "execution_count": 6
        }
      ],
      "source": [
        "type(train_data)"
      ]
    },
    {
      "cell_type": "code",
      "execution_count": 7,
      "id": "402b8bb3-d4c1-4e38-b51f-edd0f73be1a5",
      "metadata": {
        "colab": {
          "base_uri": "https://localhost:8080/"
        },
        "id": "402b8bb3-d4c1-4e38-b51f-edd0f73be1a5",
        "outputId": "6ff5a962-97eb-4019-a421-4f40bed6329d"
      },
      "outputs": [
        {
          "output_type": "execute_result",
          "data": {
            "text/plain": [
              "(tensor([[[0.0000, 0.0000, 0.0000, 0.0000, 0.0000, 0.0000, 0.0000, 0.0000,\n",
              "           0.0000, 0.0000, 0.0000, 0.0000, 0.0000, 0.0000, 0.0000, 0.0000,\n",
              "           0.0000, 0.0000, 0.0000, 0.0000, 0.0000, 0.0000, 0.0000, 0.0000,\n",
              "           0.0000, 0.0000, 0.0000, 0.0000],\n",
              "          [0.0000, 0.0000, 0.0000, 0.0000, 0.0000, 0.0000, 0.0000, 0.0000,\n",
              "           0.0000, 0.0000, 0.0000, 0.0000, 0.0000, 0.0000, 0.0000, 0.0000,\n",
              "           0.0000, 0.0000, 0.0000, 0.0000, 0.0000, 0.0000, 0.0000, 0.0000,\n",
              "           0.0000, 0.0000, 0.0000, 0.0000],\n",
              "          [0.0000, 0.0000, 0.0000, 0.0000, 0.0000, 0.0000, 0.0000, 0.0000,\n",
              "           0.0000, 0.0000, 0.0000, 0.0000, 0.0000, 0.0000, 0.0000, 0.0000,\n",
              "           0.0000, 0.0000, 0.0000, 0.0000, 0.0000, 0.0000, 0.0000, 0.0000,\n",
              "           0.0000, 0.0000, 0.0000, 0.0000],\n",
              "          [0.0000, 0.0000, 0.0000, 0.0000, 0.0000, 0.0000, 0.0000, 0.0000,\n",
              "           0.0000, 0.0000, 0.0000, 0.0000, 0.0000, 0.0000, 0.0000, 0.0000,\n",
              "           0.0000, 0.0000, 0.0000, 0.0000, 0.0000, 0.0000, 0.0000, 0.0000,\n",
              "           0.0000, 0.0000, 0.0000, 0.0000],\n",
              "          [0.0000, 0.0000, 0.0000, 0.0000, 0.0000, 0.0000, 0.0000, 0.0000,\n",
              "           0.0000, 0.0000, 0.0000, 0.0000, 0.0000, 0.0000, 0.0000, 0.0000,\n",
              "           0.0000, 0.0000, 0.0000, 0.0000, 0.0000, 0.0000, 0.0000, 0.0000,\n",
              "           0.0000, 0.0000, 0.0000, 0.0000],\n",
              "          [0.0000, 0.0000, 0.0000, 0.0000, 0.0000, 0.0000, 0.0000, 0.0000,\n",
              "           0.0000, 0.0000, 0.0000, 0.0000, 0.0118, 0.0706, 0.0706, 0.0706,\n",
              "           0.4941, 0.5333, 0.6863, 0.1020, 0.6510, 1.0000, 0.9686, 0.4980,\n",
              "           0.0000, 0.0000, 0.0000, 0.0000],\n",
              "          [0.0000, 0.0000, 0.0000, 0.0000, 0.0000, 0.0000, 0.0000, 0.0000,\n",
              "           0.1176, 0.1412, 0.3686, 0.6039, 0.6667, 0.9922, 0.9922, 0.9922,\n",
              "           0.9922, 0.9922, 0.8824, 0.6745, 0.9922, 0.9490, 0.7647, 0.2510,\n",
              "           0.0000, 0.0000, 0.0000, 0.0000],\n",
              "          [0.0000, 0.0000, 0.0000, 0.0000, 0.0000, 0.0000, 0.0000, 0.1922,\n",
              "           0.9333, 0.9922, 0.9922, 0.9922, 0.9922, 0.9922, 0.9922, 0.9922,\n",
              "           0.9922, 0.9843, 0.3647, 0.3216, 0.3216, 0.2196, 0.1529, 0.0000,\n",
              "           0.0000, 0.0000, 0.0000, 0.0000],\n",
              "          [0.0000, 0.0000, 0.0000, 0.0000, 0.0000, 0.0000, 0.0000, 0.0706,\n",
              "           0.8588, 0.9922, 0.9922, 0.9922, 0.9922, 0.9922, 0.7765, 0.7137,\n",
              "           0.9686, 0.9451, 0.0000, 0.0000, 0.0000, 0.0000, 0.0000, 0.0000,\n",
              "           0.0000, 0.0000, 0.0000, 0.0000],\n",
              "          [0.0000, 0.0000, 0.0000, 0.0000, 0.0000, 0.0000, 0.0000, 0.0000,\n",
              "           0.3137, 0.6118, 0.4196, 0.9922, 0.9922, 0.8039, 0.0431, 0.0000,\n",
              "           0.1686, 0.6039, 0.0000, 0.0000, 0.0000, 0.0000, 0.0000, 0.0000,\n",
              "           0.0000, 0.0000, 0.0000, 0.0000],\n",
              "          [0.0000, 0.0000, 0.0000, 0.0000, 0.0000, 0.0000, 0.0000, 0.0000,\n",
              "           0.0000, 0.0549, 0.0039, 0.6039, 0.9922, 0.3529, 0.0000, 0.0000,\n",
              "           0.0000, 0.0000, 0.0000, 0.0000, 0.0000, 0.0000, 0.0000, 0.0000,\n",
              "           0.0000, 0.0000, 0.0000, 0.0000],\n",
              "          [0.0000, 0.0000, 0.0000, 0.0000, 0.0000, 0.0000, 0.0000, 0.0000,\n",
              "           0.0000, 0.0000, 0.0000, 0.5451, 0.9922, 0.7451, 0.0078, 0.0000,\n",
              "           0.0000, 0.0000, 0.0000, 0.0000, 0.0000, 0.0000, 0.0000, 0.0000,\n",
              "           0.0000, 0.0000, 0.0000, 0.0000],\n",
              "          [0.0000, 0.0000, 0.0000, 0.0000, 0.0000, 0.0000, 0.0000, 0.0000,\n",
              "           0.0000, 0.0000, 0.0000, 0.0431, 0.7451, 0.9922, 0.2745, 0.0000,\n",
              "           0.0000, 0.0000, 0.0000, 0.0000, 0.0000, 0.0000, 0.0000, 0.0000,\n",
              "           0.0000, 0.0000, 0.0000, 0.0000],\n",
              "          [0.0000, 0.0000, 0.0000, 0.0000, 0.0000, 0.0000, 0.0000, 0.0000,\n",
              "           0.0000, 0.0000, 0.0000, 0.0000, 0.1373, 0.9451, 0.8824, 0.6275,\n",
              "           0.4235, 0.0039, 0.0000, 0.0000, 0.0000, 0.0000, 0.0000, 0.0000,\n",
              "           0.0000, 0.0000, 0.0000, 0.0000],\n",
              "          [0.0000, 0.0000, 0.0000, 0.0000, 0.0000, 0.0000, 0.0000, 0.0000,\n",
              "           0.0000, 0.0000, 0.0000, 0.0000, 0.0000, 0.3176, 0.9412, 0.9922,\n",
              "           0.9922, 0.4667, 0.0980, 0.0000, 0.0000, 0.0000, 0.0000, 0.0000,\n",
              "           0.0000, 0.0000, 0.0000, 0.0000],\n",
              "          [0.0000, 0.0000, 0.0000, 0.0000, 0.0000, 0.0000, 0.0000, 0.0000,\n",
              "           0.0000, 0.0000, 0.0000, 0.0000, 0.0000, 0.0000, 0.1765, 0.7294,\n",
              "           0.9922, 0.9922, 0.5882, 0.1059, 0.0000, 0.0000, 0.0000, 0.0000,\n",
              "           0.0000, 0.0000, 0.0000, 0.0000],\n",
              "          [0.0000, 0.0000, 0.0000, 0.0000, 0.0000, 0.0000, 0.0000, 0.0000,\n",
              "           0.0000, 0.0000, 0.0000, 0.0000, 0.0000, 0.0000, 0.0000, 0.0627,\n",
              "           0.3647, 0.9882, 0.9922, 0.7333, 0.0000, 0.0000, 0.0000, 0.0000,\n",
              "           0.0000, 0.0000, 0.0000, 0.0000],\n",
              "          [0.0000, 0.0000, 0.0000, 0.0000, 0.0000, 0.0000, 0.0000, 0.0000,\n",
              "           0.0000, 0.0000, 0.0000, 0.0000, 0.0000, 0.0000, 0.0000, 0.0000,\n",
              "           0.0000, 0.9765, 0.9922, 0.9765, 0.2510, 0.0000, 0.0000, 0.0000,\n",
              "           0.0000, 0.0000, 0.0000, 0.0000],\n",
              "          [0.0000, 0.0000, 0.0000, 0.0000, 0.0000, 0.0000, 0.0000, 0.0000,\n",
              "           0.0000, 0.0000, 0.0000, 0.0000, 0.0000, 0.0000, 0.1804, 0.5098,\n",
              "           0.7176, 0.9922, 0.9922, 0.8118, 0.0078, 0.0000, 0.0000, 0.0000,\n",
              "           0.0000, 0.0000, 0.0000, 0.0000],\n",
              "          [0.0000, 0.0000, 0.0000, 0.0000, 0.0000, 0.0000, 0.0000, 0.0000,\n",
              "           0.0000, 0.0000, 0.0000, 0.0000, 0.1529, 0.5804, 0.8980, 0.9922,\n",
              "           0.9922, 0.9922, 0.9804, 0.7137, 0.0000, 0.0000, 0.0000, 0.0000,\n",
              "           0.0000, 0.0000, 0.0000, 0.0000],\n",
              "          [0.0000, 0.0000, 0.0000, 0.0000, 0.0000, 0.0000, 0.0000, 0.0000,\n",
              "           0.0000, 0.0000, 0.0941, 0.4471, 0.8667, 0.9922, 0.9922, 0.9922,\n",
              "           0.9922, 0.7882, 0.3059, 0.0000, 0.0000, 0.0000, 0.0000, 0.0000,\n",
              "           0.0000, 0.0000, 0.0000, 0.0000],\n",
              "          [0.0000, 0.0000, 0.0000, 0.0000, 0.0000, 0.0000, 0.0000, 0.0000,\n",
              "           0.0902, 0.2588, 0.8353, 0.9922, 0.9922, 0.9922, 0.9922, 0.7765,\n",
              "           0.3176, 0.0078, 0.0000, 0.0000, 0.0000, 0.0000, 0.0000, 0.0000,\n",
              "           0.0000, 0.0000, 0.0000, 0.0000],\n",
              "          [0.0000, 0.0000, 0.0000, 0.0000, 0.0000, 0.0000, 0.0706, 0.6706,\n",
              "           0.8588, 0.9922, 0.9922, 0.9922, 0.9922, 0.7647, 0.3137, 0.0353,\n",
              "           0.0000, 0.0000, 0.0000, 0.0000, 0.0000, 0.0000, 0.0000, 0.0000,\n",
              "           0.0000, 0.0000, 0.0000, 0.0000],\n",
              "          [0.0000, 0.0000, 0.0000, 0.0000, 0.2157, 0.6745, 0.8863, 0.9922,\n",
              "           0.9922, 0.9922, 0.9922, 0.9569, 0.5216, 0.0431, 0.0000, 0.0000,\n",
              "           0.0000, 0.0000, 0.0000, 0.0000, 0.0000, 0.0000, 0.0000, 0.0000,\n",
              "           0.0000, 0.0000, 0.0000, 0.0000],\n",
              "          [0.0000, 0.0000, 0.0000, 0.0000, 0.5333, 0.9922, 0.9922, 0.9922,\n",
              "           0.8314, 0.5294, 0.5176, 0.0627, 0.0000, 0.0000, 0.0000, 0.0000,\n",
              "           0.0000, 0.0000, 0.0000, 0.0000, 0.0000, 0.0000, 0.0000, 0.0000,\n",
              "           0.0000, 0.0000, 0.0000, 0.0000],\n",
              "          [0.0000, 0.0000, 0.0000, 0.0000, 0.0000, 0.0000, 0.0000, 0.0000,\n",
              "           0.0000, 0.0000, 0.0000, 0.0000, 0.0000, 0.0000, 0.0000, 0.0000,\n",
              "           0.0000, 0.0000, 0.0000, 0.0000, 0.0000, 0.0000, 0.0000, 0.0000,\n",
              "           0.0000, 0.0000, 0.0000, 0.0000],\n",
              "          [0.0000, 0.0000, 0.0000, 0.0000, 0.0000, 0.0000, 0.0000, 0.0000,\n",
              "           0.0000, 0.0000, 0.0000, 0.0000, 0.0000, 0.0000, 0.0000, 0.0000,\n",
              "           0.0000, 0.0000, 0.0000, 0.0000, 0.0000, 0.0000, 0.0000, 0.0000,\n",
              "           0.0000, 0.0000, 0.0000, 0.0000],\n",
              "          [0.0000, 0.0000, 0.0000, 0.0000, 0.0000, 0.0000, 0.0000, 0.0000,\n",
              "           0.0000, 0.0000, 0.0000, 0.0000, 0.0000, 0.0000, 0.0000, 0.0000,\n",
              "           0.0000, 0.0000, 0.0000, 0.0000, 0.0000, 0.0000, 0.0000, 0.0000,\n",
              "           0.0000, 0.0000, 0.0000, 0.0000]]]),\n",
              " 5)"
            ]
          },
          "metadata": {},
          "execution_count": 7
        }
      ],
      "source": [
        "train_data[0]"
      ]
    },
    {
      "cell_type": "code",
      "execution_count": 8,
      "id": "97ec224d-21c9-4c5d-80d3-870c2b429444",
      "metadata": {
        "colab": {
          "base_uri": "https://localhost:8080/"
        },
        "id": "97ec224d-21c9-4c5d-80d3-870c2b429444",
        "outputId": "855d9742-ad67-4ba4-92e1-5d657b802cb1"
      },
      "outputs": [
        {
          "output_type": "execute_result",
          "data": {
            "text/plain": [
              "tuple"
            ]
          },
          "metadata": {},
          "execution_count": 8
        }
      ],
      "source": [
        "type(train_data[0])"
      ]
    },
    {
      "cell_type": "code",
      "execution_count": 9,
      "id": "0f8405dd-28a1-42fa-8b3a-f7722f6631ea",
      "metadata": {
        "id": "0f8405dd-28a1-42fa-8b3a-f7722f6631ea"
      },
      "outputs": [],
      "source": [
        "image,label = train_data[0]"
      ]
    },
    {
      "cell_type": "code",
      "execution_count": 10,
      "id": "3c082600-f2f6-42f4-8d02-47d2451bc2f0",
      "metadata": {
        "colab": {
          "base_uri": "https://localhost:8080/"
        },
        "id": "3c082600-f2f6-42f4-8d02-47d2451bc2f0",
        "outputId": "c3705fdb-0a08-4f61-b783-e78ca79b2f2c"
      },
      "outputs": [
        {
          "output_type": "execute_result",
          "data": {
            "text/plain": [
              "torch.Size([1, 28, 28])"
            ]
          },
          "metadata": {},
          "execution_count": 10
        }
      ],
      "source": [
        "image.shape"
      ]
    },
    {
      "cell_type": "code",
      "execution_count": 11,
      "id": "e2751faf-dec1-4990-9518-740e6b5ccf5a",
      "metadata": {
        "colab": {
          "base_uri": "https://localhost:8080/"
        },
        "id": "e2751faf-dec1-4990-9518-740e6b5ccf5a",
        "outputId": "c6f517a4-d6e3-4f39-f71f-d64a9930d9b4"
      },
      "outputs": [
        {
          "output_type": "execute_result",
          "data": {
            "text/plain": [
              "5"
            ]
          },
          "metadata": {},
          "execution_count": 11
        }
      ],
      "source": [
        "label"
      ]
    },
    {
      "cell_type": "code",
      "execution_count": 12,
      "id": "d01690bf-d325-4d60-a007-479775d6f4f5",
      "metadata": {
        "colab": {
          "base_uri": "https://localhost:8080/",
          "height": 430
        },
        "id": "d01690bf-d325-4d60-a007-479775d6f4f5",
        "outputId": "8dd7ba83-cb67-445e-f0a7-acc68da14d1b"
      },
      "outputs": [
        {
          "output_type": "display_data",
          "data": {
            "text/plain": [
              "<Figure size 640x480 with 1 Axes>"
            ],
            "image/png": "[encoded data removed]"
          },
          "metadata": {}
        }
      ],
      "source": [
        "plt.imshow(image.reshape((28,28)),cmap='gray')\n",
        "plt.show()"
      ]
    },
    {
      "cell_type": "code",
      "execution_count": 13,
      "id": "1c4a8f39-f4f8-4475-b628-deb51ad381bf",
      "metadata": {
        "colab": {
          "base_uri": "https://localhost:8080/",
          "height": 430
        },
        "id": "1c4a8f39-f4f8-4475-b628-deb51ad381bf",
        "outputId": "ed04c811-9c03-4f7c-e2a1-83dd649e845c"
      },
      "outputs": [
        {
          "output_type": "display_data",
          "data": {
            "text/plain": [
              "<Figure size 640x480 with 1 Axes>"
            ],
            "image/png": "[encoded data removed]"
          },
          "metadata": {}
        }
      ],
      "source": [
        "plt.imshow(image.reshape((28,28)),cmap='gist_yarg')\n",
        "plt.show()"
      ]
    },
    {
      "cell_type": "code",
      "execution_count": 14,
      "id": "9b847880-981e-400a-b744-33e07b356abf",
      "metadata": {
        "id": "9b847880-981e-400a-b744-33e07b356abf"
      },
      "outputs": [],
      "source": [
        "# load the data with data l__loader__\n",
        "\n",
        "torch.manual_seed(101)  # for consistent results\n",
        "\n",
        "train_loader = DataLoader(train_data, batch_size=100, shuffle=True)\n",
        "\n",
        "test_loader = DataLoader(test_data, batch_size=500, shuffle=False)"
      ]
    },
    {
      "cell_type": "code",
      "execution_count": 15,
      "id": "ef48b67a-4461-4f0c-a3fa-8b8cf5a01fcc",
      "metadata": {
        "id": "ef48b67a-4461-4f0c-a3fa-8b8cf5a01fcc"
      },
      "outputs": [],
      "source": [
        "from torchvision.utils import make_grid\n",
        "np.set_printoptions(formatter=dict(int=lambda x: f'{x:4}'))"
      ]
    },
    {
      "cell_type": "code",
      "execution_count": 16,
      "id": "2d5468fc-3592-43d1-9edc-0b0c1e998c29",
      "metadata": {
        "id": "2d5468fc-3592-43d1-9edc-0b0c1e998c29"
      },
      "outputs": [],
      "source": [
        "# First Batch\n",
        "for images,labels in train_loader:\n",
        "    break"
      ]
    },
    {
      "cell_type": "code",
      "execution_count": 17,
      "id": "89e58425-f87e-44e6-8eba-c03290406a1e",
      "metadata": {
        "colab": {
          "base_uri": "https://localhost:8080/"
        },
        "id": "89e58425-f87e-44e6-8eba-c03290406a1e",
        "outputId": "c0288772-160a-4e84-c37b-7ae28ebd2721"
      },
      "outputs": [
        {
          "output_type": "execute_result",
          "data": {
            "text/plain": [
              "torch.Size([100, 1, 28, 28])"
            ]
          },
          "metadata": {},
          "execution_count": 17
        }
      ],
      "source": [
        "images.shape"
      ]
    },
    {
      "cell_type": "code",
      "execution_count": 18,
      "id": "3f42a5e6-9b8b-4d94-8344-70dc1a49783d",
      "metadata": {
        "colab": {
          "base_uri": "https://localhost:8080/"
        },
        "id": "3f42a5e6-9b8b-4d94-8344-70dc1a49783d",
        "outputId": "eaf4bc02-5910-435e-9577-d001c7044f37"
      },
      "outputs": [
        {
          "output_type": "execute_result",
          "data": {
            "text/plain": [
              "torch.Size([100])"
            ]
          },
          "metadata": {},
          "execution_count": 18
        }
      ],
      "source": [
        "labels.shape"
      ]
    },
    {
      "cell_type": "code",
      "execution_count": 19,
      "id": "8bd38b4d-d813-4bbf-b570-afb6a8afb6f8",
      "metadata": {
        "colab": {
          "base_uri": "https://localhost:8080/"
        },
        "id": "8bd38b4d-d813-4bbf-b570-afb6a8afb6f8",
        "outputId": "6c039bf0-ac88-4ec1-ddae-3ca8d4193330"
      },
      "outputs": [
        {
          "output_type": "stream",
          "name": "stdout",
          "text": [
            "Labels:  [   7    2    3    5    8    5    3    6    9    9    1    3]\n"
          ]
        }
      ],
      "source": [
        "# Print the first 12 labels\n",
        "print('Labels: ', labels[:12].numpy())"
      ]
    },
    {
      "cell_type": "code",
      "execution_count": 21,
      "id": "39d6b35d-f567-4407-90b2-435e4b9017f1",
      "metadata": {
        "id": "39d6b35d-f567-4407-90b2-435e4b9017f1"
      },
      "outputs": [],
      "source": [
        "# Print the first 12 imagesabs\n",
        "im = make_grid(images[:12], nrow=12)  # the dafault nrow is 8"
      ]
    },
    {
      "cell_type": "code",
      "execution_count": 22,
      "id": "c1df56e3-0ff7-4593-85ca-6240b147037c",
      "metadata": {
        "colab": {
          "base_uri": "https://localhost:8080/",
          "height": 109
        },
        "id": "c1df56e3-0ff7-4593-85ca-6240b147037c",
        "outputId": "64cf5afe-3ae0-4109-aa41-e7fc677a2815"
      },
      "outputs": [
        {
          "output_type": "display_data",
          "data": {
            "text/plain": [
              "<Figure size 640x480 with 1 Axes>"
            ],
            "image/png": "[encoded data removed]"
          },
          "metadata": {}
        }
      ],
      "source": [
        "plt.imshow(np.transpose(im.numpy(),(1,2,0)));\n",
        "plt.show()"
      ]
    },
    {
      "cell_type": "code",
      "execution_count": 23,
      "id": "a5adcb5f-fe00-496e-b332-18ee9fab1fd1",
      "metadata": {
        "id": "a5adcb5f-fe00-496e-b332-18ee9fab1fd1"
      },
      "outputs": [],
      "source": [
        "class MultilayerPerceptron(nn.Module):\n",
        "    def __init__(self, in_sz=784, out_sz=10, layers=[120,84]):\n",
        "        super().__init__()\n",
        "        self.fc1 = nn.Linear(in_sz,layers[0])\n",
        "        self.fc2 = nn.Linear(layers[0],layers[1])\n",
        "        self.fc3 = nn.Linear(layers[1],out_sz)\n",
        "\n",
        "    def forward(self,X):\n",
        "        X = F.relu(self.fc1(X))\n",
        "        X = F.relu(self.fc2(X))\n",
        "        X = self.fc3(X)\n",
        "        return F.log_softmax(X, dim=1)  # Multi class classification"
      ]
    },
    {
      "cell_type": "code",
      "execution_count": 24,
      "id": "9e5592db-47a0-4dd3-8233-7fa1848a2cdb",
      "metadata": {
        "colab": {
          "base_uri": "https://localhost:8080/"
        },
        "id": "9e5592db-47a0-4dd3-8233-7fa1848a2cdb",
        "outputId": "db48ad42-4fef-451a-b850-62b0e59ec346"
      },
      "outputs": [
        {
          "output_type": "execute_result",
          "data": {
            "text/plain": [
              "MultilayerPerceptron(\n",
              "  (fc1): Linear(in_features=784, out_features=120, bias=True)\n",
              "  (fc2): Linear(in_features=120, out_features=84, bias=True)\n",
              "  (fc3): Linear(in_features=84, out_features=10, bias=True)\n",
              ")"
            ]
          },
          "metadata": {},
          "execution_count": 24
        }
      ],
      "source": [
        "torch.manual_seed(101)\n",
        "model = MultilayerPerceptron()\n",
        "model"
      ]
    },
    {
      "cell_type": "code",
      "execution_count": 25,
      "id": "82142c16-a172-452c-b445-9b989a8aad95",
      "metadata": {
        "colab": {
          "base_uri": "https://localhost:8080/"
        },
        "id": "82142c16-a172-452c-b445-9b989a8aad95",
        "outputId": "eca5cda5-e2ff-49f7-9fac-814eabd1891a"
      },
      "outputs": [
        {
          "output_type": "stream",
          "name": "stdout",
          "text": [
            "94080\n",
            "120\n",
            "10080\n",
            "84\n",
            "840\n",
            "10\n"
          ]
        }
      ],
      "source": [
        "# ANN ----> CNN\n",
        "for param in model.parameters():\n",
        "    print(param.numel())"
      ]
    },
    {
      "cell_type": "code",
      "execution_count": 26,
      "id": "02177914-fd16-4ea9-ae8e-fce3194463ca",
      "metadata": {
        "id": "02177914-fd16-4ea9-ae8e-fce3194463ca"
      },
      "outputs": [],
      "source": [
        "# 105,214 total parameter"
      ]
    },
    {
      "cell_type": "code",
      "execution_count": 27,
      "id": "ada31ac0-19e9-4f7d-8a05-eff6fcf96d01",
      "metadata": {
        "id": "ada31ac0-19e9-4f7d-8a05-eff6fcf96d01"
      },
      "outputs": [],
      "source": [
        "criterion = nn.CrossEntropyLoss()\n",
        "optimizer = torch.optim.Adam(model.parameters(),lr=0.001)"
      ]
    },
    {
      "cell_type": "code",
      "execution_count": 28,
      "id": "5818e7a0-6939-445c-badc-1d723029c2f1",
      "metadata": {
        "colab": {
          "base_uri": "https://localhost:8080/"
        },
        "id": "5818e7a0-6939-445c-badc-1d723029c2f1",
        "outputId": "973a8b6a-7d0b-4ffe-8b1e-b512c1a6dae6"
      },
      "outputs": [
        {
          "output_type": "execute_result",
          "data": {
            "text/plain": [
              "torch.Size([100, 1, 28, 28])"
            ]
          },
          "metadata": {},
          "execution_count": 28
        }
      ],
      "source": [
        "images.shape  # ----> [100,784]"
      ]
    },
    {
      "cell_type": "code",
      "execution_count": 29,
      "id": "b1ac9b8b-bb0c-47cd-8d65-6022e38a7d6e",
      "metadata": {
        "colab": {
          "base_uri": "https://localhost:8080/"
        },
        "id": "b1ac9b8b-bb0c-47cd-8d65-6022e38a7d6e",
        "outputId": "90f841b0-26b4-4a94-c18d-35ffcb2887e6"
      },
      "outputs": [
        {
          "output_type": "execute_result",
          "data": {
            "text/plain": [
              "tensor([[0., 0., 0.,  ..., 0., 0., 0.],\n",
              "        [0., 0., 0.,  ..., 0., 0., 0.],\n",
              "        [0., 0., 0.,  ..., 0., 0., 0.],\n",
              "        ...,\n",
              "        [0., 0., 0.,  ..., 0., 0., 0.],\n",
              "        [0., 0., 0.,  ..., 0., 0., 0.],\n",
              "        [0., 0., 0.,  ..., 0., 0., 0.]])"
            ]
          },
          "metadata": {},
          "execution_count": 29
        }
      ],
      "source": [
        "images.view(100,-1)"
      ]
    },
    {
      "cell_type": "code",
      "execution_count": 30,
      "id": "35a7d254-93af-474d-a27b-ba739bc22ebc",
      "metadata": {
        "colab": {
          "base_uri": "https://localhost:8080/"
        },
        "id": "35a7d254-93af-474d-a27b-ba739bc22ebc",
        "outputId": "6d997a86-42f4-4a66-c3fa-8f4fce789026"
      },
      "outputs": [
        {
          "output_type": "execute_result",
          "data": {
            "text/plain": [
              "torch.Size([100, 784])"
            ]
          },
          "metadata": {},
          "execution_count": 30
        }
      ],
      "source": [
        "images.view(100,-1).shape    # Flattening is essential for passing image data into fully connected layers"
      ]
    },
    {
      "cell_type": "code",
      "execution_count": 31,
      "id": "dcfc640a-adbb-4c88-8b68-45339634a74b",
      "metadata": {
        "id": "dcfc640a-adbb-4c88-8b68-45339634a74b"
      },
      "outputs": [],
      "source": [
        "#setup the training & evaluvation"
      ]
    },
    {
      "cell_type": "code",
      "execution_count": null,
      "id": "f2531998-1866-4baa-a240-2f41e5607374",
      "metadata": {
        "colab": {
          "base_uri": "https://localhost:8080/"
        },
        "id": "f2531998-1866-4baa-a240-2f41e5607374",
        "outputId": "c101bea2-b012-44e2-a8ff-aed679ea39c6"
      },
      "outputs": [
        {
          "output_type": "stream",
          "name": "stdout",
          "text": [
            "Epoch0  batch 200   loss: 0.23541299998760223  accuracy:83.25\n",
            "Epoch0  batch 400   loss: 0.3537280559539795  accuracy:87.5275\n",
            "Epoch0  batch 600   loss: 0.13651520013809204  accuracy:89.57333333333334\n",
            "Epoch1  batch 200   loss: 0.24385470151901245  accuracy:94.825\n",
            "Epoch1  batch 400   loss: 0.14487527310848236  accuracy:95.06\n",
            "Epoch1  batch 600   loss: 0.07246916741132736  accuracy:95.36\n",
            "Epoch2  batch 200   loss: 0.08382391184568405  accuracy:96.52\n",
            "Epoch2  batch 400   loss: 0.06502086669206619  accuracy:96.625\n",
            "Epoch2  batch 600   loss: 0.06827977299690247  accuracy:96.71666666666667\n",
            "Epoch3  batch 200   loss: 0.12022455036640167  accuracy:97.635\n",
            "Epoch3  batch 400   loss: 0.058163758367300034  accuracy:97.5\n",
            "Epoch3  batch 600   loss: 0.03137049823999405  accuracy:97.5\n",
            "Epoch4  batch 200   loss: 0.11588415503501892  accuracy:98.155\n",
            "Epoch4  batch 400   loss: 0.0415460504591465  accuracy:98.005\n",
            "Epoch4  batch 600   loss: 0.048713117837905884  accuracy:98.02166666666666\n",
            "Epoch5  batch 200   loss: 0.009237682446837425  accuracy:98.35\n",
            "Epoch5  batch 400   loss: 0.03706294670701027  accuracy:98.4825\n"
          ]
        }
      ],
      "source": [
        "import time\n",
        "start_time = time.time()\n",
        "\n",
        "# Training\n",
        "\n",
        "epochs = 10\n",
        "\n",
        "# Trackers\n",
        "train_losses = []\n",
        "test_losses = []\n",
        "train_correct = []\n",
        "test_correct = []\n",
        "\n",
        "\n",
        "\n",
        "\n",
        "\n",
        "for i in range(epochs):\n",
        "\n",
        "    trn_corr = 0\n",
        "    tst_corr = 0\n",
        "\n",
        "    for b,(X_train,y_train) in enumerate(train_loader):\n",
        "\n",
        "        b+=1\n",
        "\n",
        "        y_pred = model(X_train.view(100,-1))\n",
        "        loss = criterion(y_pred,y_train)\n",
        "\n",
        "\n",
        "        # 10 Neurons\n",
        "        # [0.1, 0.0, .... 0.8]\n",
        "        predicted = torch.max(y_pred.data,1)[1]   # print(y_pred.data)\n",
        "        batch_corr = (predicted == y_train).sum()\n",
        "        trn_corr += batch_corr\n",
        "\n",
        "        optimizer.zero_grad()\n",
        "        loss.backward()\n",
        "        optimizer.step()\n",
        "\n",
        "        if b%200 == 0:\n",
        "\n",
        "            acc = trn_corr.item()*100/(100*b)\n",
        "            print(f'Epoch{i}  batch {b}   loss: {loss.item()}  accuracy:{acc}')\n",
        "\n",
        "\n",
        "    train_losses.append(loss)\n",
        "    train_correct.append(trn_corr)\n",
        "\n",
        "    with torch.no_grad():\n",
        "        for b, (X_test,y_test) in enumerate(test_loader):\n",
        "            y_val = model(X_test.view(500,-1))\n",
        "            predicted = torch.max(y_val.data,1)[1]\n",
        "            tst_corr += (predicted ==y_test).sum()\n",
        "\n",
        "    loss = criterion(y_val,y_test)\n",
        "    test_losses.append(loss)\n",
        "    test_correct.append(tst_corr)\n",
        "\n",
        "\n",
        "\n",
        "\n",
        "\n",
        "\n",
        "total_time = time.time() - start_time\n",
        "print(f'Durations: {total_time/60} mins')"
      ]
    },
    {
      "cell_type": "code",
      "execution_count": null,
      "id": "1e79e2fc-7be2-470a-96ff-a3be40feea02",
      "metadata": {
        "id": "1e79e2fc-7be2-470a-96ff-a3be40feea02"
      },
      "outputs": [],
      "source": [
        "#train_losses_np = [loss.detach().cpu().numpy() for loss in train_losses]\n",
        "\n",
        "train_losses_np = [loss.detach().numpy() for loss in train_losses]\n",
        "\n",
        "plt.plot(train_losses_np, label='Training loss')\n",
        "plt.legend()\n",
        "plt.show()"
      ]
    },
    {
      "cell_type": "code",
      "execution_count": null,
      "id": "7c7fd9e6-823b-4a04-9c3a-024c1f70bb7b",
      "metadata": {
        "id": "7c7fd9e6-823b-4a04-9c3a-024c1f70bb7b"
      },
      "outputs": [],
      "source": [
        "# compare with test lloss\n",
        "\n",
        "train_losses_np = [loss.detach().numpy() for loss in train_losses]\n",
        "test_losses_np = [loss.detach().numpy() for loss in test_losses]\n",
        "plt.plot(train_losses_np, label='Training loss')\n",
        "plt.plot(test_losses_np, label='Validation Loss')\n",
        "plt.legend()\n",
        "plt.show()"
      ]
    },
    {
      "cell_type": "code",
      "execution_count": null,
      "id": "5d31e188-d31a-4104-92e5-ae631298830a",
      "metadata": {
        "id": "5d31e188-d31a-4104-92e5-ae631298830a"
      },
      "outputs": [],
      "source": [
        "train_correct"
      ]
    },
    {
      "cell_type": "code",
      "execution_count": null,
      "id": "84a04efd-2d89-4740-8270-b69727de0449",
      "metadata": {
        "id": "84a04efd-2d89-4740-8270-b69727de0449"
      },
      "outputs": [],
      "source": [
        "train_correct"
      ]
    },
    {
      "cell_type": "code",
      "execution_count": null,
      "id": "4a7d0c54-60ed-4548-a896-5fa20b3d0a3f",
      "metadata": {
        "id": "4a7d0c54-60ed-4548-a896-5fa20b3d0a3f"
      },
      "outputs": [],
      "source": [
        "train_correct[0]/600"
      ]
    },
    {
      "cell_type": "code",
      "execution_count": null,
      "id": "e847a853-05e5-4e80-8085-dbc23989fa38",
      "metadata": {
        "id": "e847a853-05e5-4e80-8085-dbc23989fa38"
      },
      "outputs": [],
      "source": [
        "train_acc = [t/600 for t in train_correct]"
      ]
    },
    {
      "cell_type": "code",
      "execution_count": null,
      "id": "b45d6fe7-dd52-498d-ba5c-47df8e54f6db",
      "metadata": {
        "id": "b45d6fe7-dd52-498d-ba5c-47df8e54f6db"
      },
      "outputs": [],
      "source": [
        "train_acc"
      ]
    },
    {
      "cell_type": "code",
      "execution_count": null,
      "id": "4d4eaae5-09d7-4aee-a838-4fe7b0f841b7",
      "metadata": {
        "id": "4d4eaae5-09d7-4aee-a838-4fe7b0f841b7"
      },
      "outputs": [],
      "source": [
        "test_acc = [t/100 for t in test_correct]"
      ]
    },
    {
      "cell_type": "code",
      "execution_count": null,
      "id": "e092cd51-49bd-43a0-805b-16de0f17eff5",
      "metadata": {
        "id": "e092cd51-49bd-43a0-805b-16de0f17eff5"
      },
      "outputs": [],
      "source": [
        "test_acc"
      ]
    },
    {
      "cell_type": "code",
      "execution_count": null,
      "id": "b866d3c0-6f03-48f9-81a3-2ff925a1f7cb",
      "metadata": {
        "id": "b866d3c0-6f03-48f9-81a3-2ff925a1f7cb"
      },
      "outputs": [],
      "source": [
        "plt.plot(train_acc,label='train acc')\n",
        "plt.plot(test_acc,label='test acc')\n",
        "plt.legend()\n",
        "plt.show()"
      ]
    },
    {
      "cell_type": "code",
      "execution_count": null,
      "id": "c9968a7d-eeb9-4e25-90e3-cf33c0a4967f",
      "metadata": {
        "id": "c9968a7d-eeb9-4e25-90e3-cf33c0a4967f"
      },
      "outputs": [],
      "source": [
        "# new unseen dDataLoader\n",
        "\n",
        "test_load_all = DataLoader(test_data, batch_size=10000, shuffle=False)"
      ]
    },
    {
      "cell_type": "code",
      "execution_count": null,
      "id": "16925b39-dd85-46cd-bd7e-7f4d5bcf3110",
      "metadata": {
        "id": "16925b39-dd85-46cd-bd7e-7f4d5bcf3110"
      },
      "outputs": [],
      "source": [
        "with torch.no_grad():\n",
        "    correct = 0\n",
        "\n",
        "    for X_test, y_test in test_load_all:\n",
        "        y_val = model(X_test.view(len(X_test), -1))  # pass in a flattened view of X_test\n",
        "        predicted = torch.max(y_val,1)[1]\n",
        "        correct += (predicted == y_test).sum()"
      ]
    },
    {
      "cell_type": "code",
      "execution_count": null,
      "id": "9054b74c-1357-40a3-9d02-7ffcdc403102",
      "metadata": {
        "id": "9054b74c-1357-40a3-9d02-7ffcdc403102"
      },
      "outputs": [],
      "source": [
        "100*correct.item()/len(test_data)"
      ]
    },
    {
      "cell_type": "code",
      "execution_count": null,
      "id": "46a5bc41-ef4e-4d10-b675-976d9488fa5b",
      "metadata": {
        "id": "46a5bc41-ef4e-4d10-b675-976d9488fa5b"
      },
      "outputs": [],
      "source": [
        "confusion_matrix(predicted.view(-1), y_test.view(-1))"
      ]
    }
  ],
  "metadata": {
    "kernelspec": {
      "display_name": "Python 3 (ipykernel)",
      "language": "python",
      "name": "python3"
    },
    "language_info": {
      "codemirror_mode": {
        "name": "ipython",
        "version": 3
      },
      "file_extension": ".py",
      "mimetype": "text/x-python",
      "name": "python",
      "nbconvert_exporter": "python",
      "pygments_lexer": "ipython3",
      "version": "3.12.2"
    },
    "colab": {
      "provenance": []
    }
  },
  "nbformat": 4,
  "nbformat_minor": 5
}